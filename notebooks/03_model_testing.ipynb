{
 "cells": [
  {
   "cell_type": "markdown",
   "id": "22ca0b01",
   "metadata": {},
   "source": [
    "# Model Testing for Paper & CUDA RAG System\n",
    "\n",
    "This notebook focuses on testing and evaluating our RAG system's response generation for both research paper understanding and CUDA implementation guidance."
   ]
  },
  {
   "cell_type": "code",
   "execution_count": 1,
   "id": "576d6ea0",
   "metadata": {},
   "outputs": [
    {
     "name": "stdout",
     "output_type": "stream",
     "text": [
      "The history saving thread hit an unexpected error (DatabaseError('database disk image is malformed')).History will not be written to the database.\n"
     ]
    },
    {
     "name": "stderr",
     "output_type": "stream",
     "text": [
      "C:\\Users\\makaa\\anaconda3\\lib\\site-packages\\sentence_transformers\\cross_encoder\\CrossEncoder.py:13: TqdmExperimentalWarning: Using `tqdm.autonotebook.tqdm` in notebook mode. Use `tqdm.tqdm` instead to force console mode (e.g. in jupyter console)\n",
      "  from tqdm.autonotebook import tqdm, trange\n"
     ]
    }
   ],
   "source": [
    "# Import required libraries\n",
    "import numpy as np\n",
    "import pandas as pd\n",
    "from sentence_transformers import SentenceTransformer\n",
    "import faiss\n",
    "import pickle\n",
    "from transformers import AutoTokenizer, AutoModelForSeq2SeqLM\n",
    "from typing import List, Dict"
   ]
  },
  {
   "cell_type": "code",
   "execution_count": null,
   "id": "8b35528e",
   "metadata": {},
   "outputs": [],
   "source": [
    "## Load Existing Knowledge Base and Models\n",
    "# Load embeddings and data\n",
    "with open('cuda_embeddings.pkl', 'rb') as f:\n",
    "    df, embeddings = pickle.load(f)\n",
    "\n",
    "# Initialize models\n",
    "model = SentenceTransformer('sentence-transformers/all-MiniLM-L6-v2')\n",
    "tokenizer = AutoTokenizer.from_pretrained(\"google/flan-t5-small\")\n",
    "llm = AutoModelForSeq2SeqLM.from_pretrained(\"google/flan-t5-small\")\n",
    "\n",
    "print(f\"Loaded {len(df)} documents\")\n",
    "print(f\"Embedding shape: {embeddings.shape}\")"
   ]
  },
  {
   "cell_type": "code",
   "execution_count": null,
   "id": "2cfd2e88",
   "metadata": {},
   "outputs": [],
   "source": [
    "# Define Test Scenarios\n",
    "#Create a set of test queries that cover both paper comprehension and CUDA implementation aspects.\n",
    "def evaluate_response(query: str, model, tokenizer, llm, df, embeddings, top_k=3):\n",
    "    \"\"\"\n",
    "    Test the full RAG pipeline with a single query\n",
    "    \"\"\"\n",
    "    # Setup FAISS index\n",
    "    dimension = embeddings.shape[1]\n",
    "    index = faiss.IndexFlatL2(dimension)\n",
    "    index.add(np.array(embeddings).astype('float32'))\n",
    "    \n",
    "    # Get query embedding\n",
    "    query_embedding = model.encode([query])[0]\n",
    "    \n",
    "    # Search\n",
    "    distances, indices = index.search(np.array([query_embedding]).astype('float32'), top_k)\n",
    "    \n",
    "    # Get relevant chunks\n",
    "    relevant_chunks = []\n",
    "    for dist, idx in zip(distances[0], indices[0]):\n",
    "        relevant_chunks.append({\n",
    "            'text': df.iloc[idx]['text'],\n",
    "            'source': df.iloc[idx]['source'],\n",
    "            'similarity': 1 - dist/2\n",
    "        })\n",
    "    \n",
    "    # Prepare prompt\n",
    "    context = \"\\n\\n\".join([chunk['text'] for chunk in relevant_chunks])\n",
    "    prompt = f\"\"\"Use the following information to answer the question.\n",
    "    If you cannot answer based on the provided context, say so.\n",
    "    \n",
    "    Context:\n",
    "    {context}\n",
    "\n",
    "    Question: {query}\n",
    "\n",
    "    Answer:\"\"\"\n",
    "    \n",
    "    # Generate response\n",
    "    inputs = tokenizer(prompt, return_tensors=\"pt\", max_length=512, truncation=True)\n",
    "    outputs = llm.generate(**inputs, max_length=200, num_beams=4, temperature=0.7)\n",
    "    response = tokenizer.decode(outputs[0], skip_special_tokens=True)\n",
    "    \n",
    "    return {\n",
    "        'query': query,\n",
    "        'response': response,\n",
    "        'relevant_chunks': relevant_chunks\n",
    "    }\n",
    "\n",
    "# Test queries\n",
    "test_queries = [\n",
    "    \"Explain how CUDA thread blocks work\",\n",
    "    \"What are the main memory considerations in CUDA?\",\n",
    "    \"How can I optimize matrix multiplication in CUDA?\",\n",
    "]\n",
    "\n",
    "# Run tests\n",
    "for query in test_queries:\n",
    "    print(f\"\\nTesting query: {query}\")\n",
    "    print(\"-\" * 80)\n",
    "    \n",
    "    result = evaluate_response(query, model, tokenizer, llm, df, embeddings)\n",
    "    \n",
    "    print(\"\\nResponse:\")\n",
    "    print(result['response'])\n",
    "    \n",
    "    print(\"\\nRelevant chunks used:\")\n",
    "    for i, chunk in enumerate(result['relevant_chunks'], 1):\n",
    "        print(f\"\\n{i}. Similarity: {chunk['similarity']:.3f}\")\n",
    "        print(f\"Text: {chunk['text'][:200]}...\")"
   ]
  }
 ],
 "metadata": {
  "kernelspec": {
   "display_name": "Python 3",
   "language": "python",
   "name": "python3"
  },
  "language_info": {
   "codemirror_mode": {
    "name": "ipython",
    "version": 3
   },
   "file_extension": ".py",
   "mimetype": "text/x-python",
   "name": "python",
   "nbconvert_exporter": "python",
   "pygments_lexer": "ipython3",
   "version": "3.8.8"
  }
 },
 "nbformat": 4,
 "nbformat_minor": 5
}
